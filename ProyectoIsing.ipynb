{
  "nbformat": 4,
  "nbformat_minor": 0,
  "metadata": {
    "colab": {
      "provenance": []
    },
    "kernelspec": {
      "name": "python3",
      "display_name": "Python 3"
    },
    "language_info": {
      "name": "python"
    }
  },
  "cells": [
    {
      "cell_type": "markdown",
      "source": [
        "### **Modelo de Ising cuántico unidimensional en una grilla de N espines: Análisis Espectral**\n"
      ],
      "metadata": {
        "id": "wOTWWV9Vlm3U"
      }
    },
    {
      "cell_type": "markdown",
      "source": [
        "Se debe implementar el modelo de Ising unidimensional para N espines 1/2 en una grilla periódica. El Hamiltoniano del sistema está dado por:\n",
        "\n",
        "$$\n",
        "H = -J \\sum_{i=1}^{N}\\sigma_i^z \\sigma_{i+1}^z - g \\sum_{i=1}^{N} \\sigma_i^x\n",
        "$$\n",
        "\n",
        "donde:\n",
        "\n",
        "- \\( H \\) es el Hamiltoniano.\n",
        "- \\( J \\) escala energética que determina la interacción ferromagnética\n",
        "- \\( g\\) es parámetro magnético del campo transversal."
      ],
      "metadata": {
        "id": "lAC9MU9KPKHq"
      }
    },
    {
      "cell_type": "markdown",
      "source": [
        "# Matrices de Pauli\n",
        "\n",
        "Las matrices de Pauli son un conjunto de tres matrices \\( $2 \\times 2$ \\) que se utilizan frecuentemente en física cuántica para describir los operadores de espín. Las matrices de Pauli son:\n",
        "\n",
        "- **Matriz \\( $\\sigma_x$ \\)**:\n",
        "  $$ \\sigma_x = \\begin{pmatrix} 0 & 1 \\\\ 1 & 0 \\end{pmatrix} $$\n",
        "\n",
        "- **Matriz \\( $\\sigma_y$ \\)**:\n",
        "  $$ \\sigma_y = \\begin{pmatrix} 0 & -i \\\\ i & 0 \\end{pmatrix} $$\n",
        "\n",
        "- **Matriz \\( $\\sigma_z$ \\)**:\n",
        "  $$ \\sigma_z = \\begin{pmatrix} 1 & 0 \\\\ 0 & -1 \\end{pmatrix} $$\n",
        "\n",
        "Para un sistema de $N$  espines, las matrices de Pauli deben ser representadas en un espacio de Hilbert de dimensión $ 2^N $. Las matrices $ \\sigma_i^\\alpha $ para cada espín $i$-ésimo son matrices \\($ 2^N \\times 2^N $\\) que actúan solo en el espín $i$-ésimo, dejando los otros espines sin alterar. Esto se consigue utilizando el producto tensorial (producto de Kronecker).\n",
        "\n",
        "### Forma General\n",
        "\n",
        "La forma general de $ \\sigma_i^\\alpha $ donde $\\alpha $ puede ser $ x$, $y $ o $ z $ para el $i$-ésimo espín en un sistema de $ N $ espines es:\n",
        "\n",
        "$$ \\sigma_i^\\alpha= I_2 \\otimes I_2 \\otimes \\cdots \\otimes \\sigma^\\alpha \\otimes \\cdots \\otimes I_2 $$\n",
        "\n",
        "Donde:\n",
        "- $ \\sigma^\\alpha $ está en la posición $ i $-ésima.\n",
        "- $ I_2 $ es la matriz identidad \\( $ 2 \\times 2 $\\).\n",
        "\n",
        "Esto significa que $\\sigma^α_i$ actúa como $ \\sigma^\\alpha $  en el $  i $ -ésimo espín y como la matriz identidad en todos los demás espines.\n",
        "\n",
        "Sin embargo, el producto tensorial de matrices identidad es otra matriz identidad de mayor dimensión, de forma que se puede reducir a sólo dos productos tensoriales:\n",
        "\n",
        "$$ \\sigma_i^\\alpha= I_{2i} \\otimes \\sigma^\\alpha \\otimes I_{2(N-i-1)} $$\n",
        "\n",
        "Partiendo de esto, se crea una funci ón $S(N,\\sigma^\\alpha)$ que devuelve una matriz $S\\alpha$ que contiene todas las $N$ matrices $\\sigma^\\alpha_i$:\n",
        "\n",
        " $$ S\\alpha = [\\sigma^\\alpha_1, \\sigma^\\alpha_2, \\cdots, \\sigma^\\alpha_N] $$\n",
        "\n",
        " De forma que $S\\alpha[0]$=$\\sigma^\\alpha_1$ y $S\\alpha[N-1]$=$\\sigma^\\alpha_N$"
      ],
      "metadata": {
        "id": "3MGnv7GCPJq6"
      }
    },
    {
      "cell_type": "code",
      "source": [
        "import numpy as np\n",
        "\n",
        "# Definición de las matrices de Pauli sigma_x y sigma_z\n",
        "sx = np.array([[0, 1], [1, 0]])\n",
        "sz = np.array([[1, 0], [0, -1]])\n",
        "\n",
        "# Función para generar las matrices sigma_z^(i) y sigma_x^(i) para N espines\n",
        "def S(N, s):\n",
        "    S = []\n",
        "    for i in range(N):\n",
        "        # Matriz identidad de tamaño 2^i\n",
        "        identidad_izquierda = np.eye(2 ** i)  # Matriz identidad resultante a la izquierda\n",
        "        # Producto de Kronecker de la identidad izquierda y sigma\n",
        "        s_i = np.kron(identidad_izquierda, s)\n",
        "        # Matriz identidad de tamaño 2^(N - i - 1)\n",
        "        identidad_derecha = np.eye(2 ** (N - i - 1))  # Matriz identidad resultante a la derecha\n",
        "        # Producto de Kronecker de sigma_i y la identidad derecha\n",
        "        s_i = np.kron(s_i, identidad_derecha)\n",
        "        # Añadir la matriz resultante a la lista\n",
        "        S.append(s_i)\n",
        "    return S\n",
        "\n",
        "def hamiltonian(J, g, N):\n",
        "    Sz = S(N, sz)\n",
        "    Sx = S(N, sx)\n",
        "    N\n",
        "    suma_z = 0\n",
        "    suma_x = 0\n",
        "\n",
        "    if N > 2:\n",
        "      for i in range(0, N):\n",
        "        suma_z+=Sz[i]@Sz[(i+1)%N]\n",
        "        suma_x+=Sx[i]\n",
        "    else:\n",
        "      for i in range(0, N-1):\n",
        "        suma_z+=Sz[i]@Sz[(i+1)]\n",
        "      for i in range(0, N):\n",
        "        suma_x+=Sx[i]\n",
        "    return -J*suma_z-g*suma_x\n",
        "\n",
        "H = hamiltonian(2, 1, 2)\n",
        "\n",
        "eigenvalues, eigenvectors = np.linalg.eig(H)\n",
        "D = np.diag(eigenvalues)\n",
        "\n",
        "print(\"El hamiltoniano es: \")\n",
        "print(H)\n",
        "print(\"La matriz diagonalizada es: \")\n",
        "print(D)\n",
        "print(\"Los autovalores son: \")\n",
        "print(eigenvalues)"
      ],
      "metadata": {
        "colab": {
          "base_uri": "https://localhost:8080/"
        },
        "id": "jAfrOSpt5g32",
        "outputId": "63b69d13-1cdf-4f08-91bc-59ee6a6aaaf0"
      },
      "execution_count": null,
      "outputs": [
        {
          "output_type": "stream",
          "name": "stdout",
          "text": [
            "El hamiltoniano es: \n",
            "[[-2. -1. -1. -0.]\n",
            " [-1.  2. -0. -1.]\n",
            " [-1. -0.  2. -1.]\n",
            " [-0. -1. -1. -2.]]\n",
            "La matriz diagonalizada es: \n",
            "[[-2.82842712  0.          0.          0.        ]\n",
            " [ 0.         -2.          0.          0.        ]\n",
            " [ 0.          0.          2.82842712  0.        ]\n",
            " [ 0.          0.          0.          2.        ]]\n",
            "Los autovalores son: \n",
            "[-2.82842712 -2.          2.82842712  2.        ]\n"
          ]
        }
      ]
    },
    {
      "cell_type": "markdown",
      "source": [
        "Al ser una grilla periódica, se consideró la condición de frotnera periódica:\n",
        "$$ \\sigma_{(N+k)}^z = \\sigma_{k}^z$$\n",
        "\n",
        "<center>\n",
        "\n",
        "![ising.png](data:image/png;base64,iVBORw0KGgoAAAANSUhEUgAAAOIAAADfCAMAAADcKv+WAAAAkFBMVEX///8AAAD5+fn8/Pzz8/P29vbq6urw8PDt7e3g4ODm5uba2tq0tLTU1NTBwcHj4+OsrKxvb2/MzMyEhIR6enppaWm4uLgYGBhbW1u/v780NDRHR0fIyMimpqYrKyuRkZGIiIg/Pz+ampo3NzdOTk5GRkYtLS0jIyMVFRVUVFR0dHRfX18kJCQWFhYMDAyfn5/5Np4UAAAN8ElEQVR4nO2daXuqOhCAScK+yb4oyCKCiML//3eXpe1RiwoVBO7j++mUQ2kGkslkZjLBsA8fPnz48L+DVkgMQ4xAYBghrKZuzRhAD2gYxmxMBcN4kNFTt2cEKhERxuy/RCSnbs8Y0E7VUTml7Ki4wkzdmg8fPiwRxHD41G0YF1LdB7IydSvGhDiCkt3/01yhWIYTlOJQiQg0ReAYloJTt2ogaEF0PVWOYnDDOpV9TxI5auoWvgCiGNHLNrFpntaRrrq8IbpJLZ0qGnyh6pv4ZJrrjR46zBJVEBIkNc1BHh1D3uFwiJqrfiVh1JjVkKA5kfeOQQ7Omc9zUza3MzhLVaIgSvA228PJChWOvP4+lLsJ/CubE+Es54TR6RCnxfd8gt7V4N6I1i4KIbTVCIDME5lWdYJTbQIQnOGlAKS+gjA2VKWZLp/ESqPk2cY8pRLTX11CmiuixIzCUlSQzlNGudGUlssRf30ELtQClnhz7Kxo0zROeO0pwrZ+SjTDZTDj5XXb4he7GLuuH3P25zaPcF5iWvX7D1/tYU1/D847j51RZ2VDE2gOLm7Atnj55XNRNaAZJwO78M+DemBoKc6PQvXGIT5Em3DJt8sXRShpvpHmICR0IpDaw7bkq4NSxg7owuS9lTmCjTRaKyh3m3vsWE/vBCHtgDamekfcEezFCVddnAys16bB5yAxHfctPgIaa+C9wdBiNRCJk4zI8i9nb/LCiEH+4F1CkkZwjL4sWEB7m63MyEC+5/anClmVwuFXm1AyY+ONnYeQkq3d/ve8RCQ9MHjcgwhB+mZXob1LpLbeSFh7FmPloRXSSgfq261kUm9VbkgGBULty++/w2TAm2AdUOo3ucVdZ4PEHvLPwBWJKevToM/sTgHSUq3cGIuoANsBlQ2jRpkf3Bv4owMlECmhdmPSUTrwURUtcZgqM8D5Jy+h9O5sq6BayiUTxiRq/xAI/rWg8k0y26DSNqy+JjDE6z/hBFqNeyvaol6tnib0eBJ63QT9+2eoSeVnjKL6a3mgFN0x/t1srHuLqDXeGXGQ1v4Jct804ftnNt1Lihc71b+Rnx0hLC6mD2HXW0Svfnw+tuX9ADpqmvD980oSPV1z6imDDflgRXsXd/9BRKOJSEy4tkHNWPmRo1IzX8EETFLwwBWkylWpVDB/EJGLtvtD4k/q/sPrwRK1eBmgT2F+ypfDkfXUCqO/iMzupBCrqf2bkHM4Ptd/N4MtECactNI4QOXCowT1FpE+Ammodr4IdKv8sRtEHmG4rl1O2cq2l4hQA/zknqIf/NIwvb7ChJV/U7nU9qSr8X38ZnzLi5sOWj4b11eaVTGC15f6aEb7IM8qWEQG5sBzF7uOp9YzNyhbfdB3Th3NiRYX9zGANqRuKH6N7ukhNDDga1dANjsJy+ForQcbjnQWTGiW3kcB8kBvHnnAeH7XBKBwqKlayPUZdtMKMlsPsnalrN1ss34UcBzi7btgvODaqyAvv7M+p2iIwY7tXp3SGWccrjZRW/gRifIxlPhuDYeq6QzbqmGRQNFyVVmHKyNu+5+2m4E6225agettXraiclSp3XxMUD/MPAXYSbzf/ZEHMolx3WxYB3jPb5oUdDz/tktWKVA7/j5lBbPfzSPkLUNJSbpaBeIMze9bkP9r5Vi2Wco31cdp3HO1I6cdmL2a0fYOhK167b7gjDrQUc0EtKuVukRQxXsODifvqHen5Xi+Hk18FQ/w8yrwgeyDVC7o73gsCEMN4tmabpcIuSwxFz3RNwvB2DQhUN7ScUxodx2WZjwA5lzcig/hTQD2/yZBJBnhUXbrrolCPuEwvn0taJt18GDa7KxOKPFNHizEEPUVWKRdNvOJsL2fNiEawL+jka8RNi1t9XIIBnIjLmw3Vr9EnOdi+IrwwceQBIzcaHeEcOqOepiZa7ENu9mI1WajIK9sv2resUFrdbObnWuxBVRnpbfZKASfldIp+r1J0QOexM3etqkgbE/P2/op5BS62uZy5/eooC3JZaYgfH33U93HXsac+I0PemsNpE6ZmNEfpX/wE0/bgs3zhQx691RhNiHhbqD+aUQhWFQ/LQ3VQ18rxZrp9rq74Infb4ZjduqihmJJuu/n7+3/2SenAP1WRd7QkfTxEfutiqC+WVo/xci11qenlrcvwjq9BLfSPhansIR14g1I7ZV9KoEFVjNxzT6NVoeJvr4Xpo9BhvR0Aav9W+DZ734zudEWp1DLD7NPu9/Mrecej2oDyUn3m0VzAb7F33ig+7YMft7B73tIPVZHhblAhVqZcN1n8zBZoEKtDBa3873+eoEKFcNWZuf6KoQezTjV5j7k+tcWEki010CiorkmvT2G3sjXvQ9K+tEr2oL+9G5Ome7dodIbL5xjSoxxbpsAyZP/liYNDZ5Z1xOjWs4ihN42O5D5Eo2b0g5Pg+u1RlhteRbaNh/VuUfLw1kDcCguFc4qAK3RU0o7ALBZnOumXDvUW2SvwoW82ZrM6TZ1wBY3M4pN7avjzwVUB0krfzC6/pR4U/tpgR64RkT554LiVPNfImB4oV/JuFgRV7ubkH/ow3KBtWWwlRpf90mpvjNbXEdFxhaA/KK22jHmSXFXpXLyNwZpvc9zv7iPWCJs4gtLBi8M37Lq+ly3ImLQBvPa5dYVqKeXUz/CENGMwV8iYmTiv6tVg/LLuvnmt4jLtVGzriL+b1Ya3/DxrY1D6HPemnGfe4EbIvwdJPd3i5syKu6t+kmb/1UTMEwWqVH7+G4W6oFzenjgpKX6UbsbLAv1hoegewxViMMRWzIWSDa738wuMzIV9YhMocxaoGcDmn6Pu7X+RZumZ9VjzlhorL/fPLDIjA2/Vy4jue26/W8+4FmvvBsiW17ghtwde7XZSxZnwjk9k4QXmMnogn67nrm1v7SeagX9WozSpZ3rSCR9d+d7S8sNN/K+Q0tZ2MyI/N51YKnIWtRgpDd3vG/3QWq/SnhTI+T9t+cbh0Uti8Oeye8VpbGwoDUjCv4SZ/Lztij5LIGMe/jL/icbBNmUJ1l0h1TX51trDKcg9qzxQh2RXMLesKZEc3KpHZGoH0P+WVlNvzkkcW6nPbXgnMDt6U/CzmP4+Ml5ULCpXt3TtJ0E/ivIfyGQW1cterLXG30V0F6Apfp1hNql46bOHBKeudjEel//LE+Xu6WusnC15F9ZXaoWIWm/zbeLCPkr+S5Sry1U59ypahHNufkSNCqmguvjCFBdtWhfqVhIP9GXRBosYG8/F2vXcvyrWrTyrezJ4UbGEiZG73Dj9K2rFnm5gqGwsPX4sfFKR631AGcFd7r1vHmmxImRSmFQgOUS5Ik+MXo50SdBvfXcI5f3ZP37lEQueDK1Q+s08wCOcls/DEMEhmj6ewRKd+r5/EOc+dQItcceX0Z9OtKIYzzrudF+XFGR7HKMGJfrz2+aDDJ9WFGRcgUMf160J5yxLw4VraV8vsE1MwjWzx00ZHsh2VkgmPojZQId0bbtDtaLM6szGC6h5IEOhIIamGkajjtY4c9VFM3SpyochkvvFi+2BswHXB4wyQv5czr05QvoDbpGILN4dikcDnioTXvDmZuZrRy5IB3YdSaBeZ0uj1uDq3lUzKq8NqGOsMrDsylP7LulAP4IARfWSmYjow3G2YMgnAOBEyb3HeMs7pzGskWUdRXlmOog1AbEb5LA3I3liiCtOpIzqTFn18790cqZ2+fr8x0ngKrfMtiN9Xy+ieRMecDG7VmoQyPc7vN8P3jzFYOxnk805auzCWOOzVt+6M14DWRrsisl021RdfJdoe+fhSleo6o8Yhz2Ey07jNPOwWjuDc5rJcilCVI58BCkb3OUCdEf0rFeBVeB/MYpmdbA8c0WgGAB762pTpT33jIcyAmAdE9CNFKPsoNz+La3SnsgvafiqFDXCm+UBGHOAtqbZkguezAuii3P+fk4w4Yq8lOvo43/CB4m8X0NTlh7FmNbDtQeBORscm10Nc7JwPq12/kfUAdSHfEeCdrLt0+jsC9BeiBxHzr/bDDugcJIiYA+XsQDiuXjn2hu6IORT22jpBPQHnSkF4BKBvbG406CquPdQVX4nTTE0dygjJ+fvHpIoq5Hc3ZipSUn75mrSCw/oJBsaIzVsu14i3UkaOAQMlA4rq0nL73L00jeFSDk1PygrZ69MqhJVXZQSmECSXjbEa1KKOr5WguqI41eDqU4GwBiX9uacgc1SaapgktJE6rnx910iZymZhXYvRj7oBrXxVnudHTQyuXlKKudglAYUe81wE0j44umlNOcGnWnrMstpbaBVHMrHcb7sUNLX6nWmkj+eUhA1vh+yh+eoYw7QZYYSdW2TXwIVIX8g2FHsM5xd17X2cx/ip/g6egRCT7aBj7OFvoJ7FReoNo/ROtVRAuStgWxLtFS9ab6R0c5jhDecDIWxdR9lFgZ+tpMAt9hWPxaIih4mnM9QyOK5UQtMM3dUWRhNQWpstG7rSiMtHFWVHdhDb/8mCA4hobDUD8mQb3h4LuAB4IU5/CeXk42a92zXwsIIWaCBCi4EkJ9H5vmaWdppaSKItjrJiQhKEop2zHdJaYZb2RXIBexc6kdSjBcX7OCRolckQSZ5rkit5TNZw9BOL3iFJt3tWZjjCXxtsCtaGJ2mS6vQzdRkdkluAyJU6qWuFjwwOsAI7nK/1vCDz/AVaVnabaqN8zOLG9rGFBolmu/VboWqnDUMqu1PgFqICvNzm2VBOaC/WwTt1+BtVeVtVo5nChxGefqfvjw4cOHDx/mx38pOc7h+pf71gAAAABJRU5ErkJggg==)"
      ],
      "metadata": {
        "id": "SFb26snXP6G0"
      }
    },
    {
      "cell_type": "markdown",
      "source": [
        "## Escalar el hamiltoniano a la mayor cantidad de espines posibles:\n",
        "Para esto se pasa a trabajar con sistemas de matrices dispersas, cuya cualidad es que almancenan y trabajan solo con los elementos no nulos, lo cual ahorra memoria y tiempo de ejecusión, además se puede usar kron de scipy en lugar de np.kron, lo cual hace eficiente el trabajo con matrices dispersas. La función para la construcción del Hamiltoniano puede recibir como argumento la cantidad de espines."
      ],
      "metadata": {
        "id": "6UqiAxjDkum1"
      }
    },
    {
      "cell_type": "code",
      "source": [
        "import numpy as np\n",
        "from scipy.sparse import kron, eye, csc_matrix"
      ],
      "metadata": {
        "id": "zBBsZHmRs6Ra"
      },
      "execution_count": null,
      "outputs": []
    },
    {
      "cell_type": "code",
      "source": [
        "# Matrices de Pauli\n",
        "sx = csc_matrix([[0, 1], [1, 0]])  # Pauli X\n",
        "sz = csc_matrix([[1, 0], [0, -1]])  # Pauli Z\n",
        "iden = csc_matrix([[1, 0], [0, 1]])  # Identidad"
      ],
      "metadata": {
        "id": "U2CCS585s80u"
      },
      "execution_count": null,
      "outputs": []
    },
    {
      "cell_type": "code",
      "source": [
        "def sparse_hamiltonian(N, J, g):   #Recibe número de spines y J la escala energética y g el parámetro energético\n",
        "    # Inicializa la matriz dispersa del hamiltoniano de dimensiones 2^N con datos tipo float\n",
        "    H = csc_matrix((2**N, 2**N), dtype=np.float64)\n",
        "\n",
        "    # Construcción del Hamiltoniano\n",
        "    for i in range(N):\n",
        "        # Termino de interacción J * sigma_z_i * sigma_z_{i+1} Primer término del Hamiltoniano\n",
        "        if i < N - 1:\n",
        "            term_z = -J * kron(\n",
        "                kron(eye(2**i, dtype=np.float64), csc_matrix(sz)),\n",
        "                kron(csc_matrix(sz), eye(2**(N-i-2), dtype=np.float64))\n",
        "            )\n",
        "            H += term_z\n",
        "\n",
        "        # Termino de campo transversal g* sigma_x_i Segundo término del Hamiltoniano\n",
        "        term_x = - g * kron(\n",
        "            kron(eye(2**i, dtype=np.float64), csc_matrix(sx)),\n",
        "            eye(2**(N-i-1), dtype=np.float64)\n",
        "        )\n",
        "        H += term_x\n",
        "\n",
        "    return H"
      ],
      "metadata": {
        "id": "wLsTyTrbsHlS"
      },
      "execution_count": null,
      "outputs": []
    },
    {
      "cell_type": "markdown",
      "source": [
        "Ahora se procede a definir los parámetros e invocar la función del Hamiltoniano."
      ],
      "metadata": {
        "id": "GS4aSptFn1i6"
      }
    },
    {
      "cell_type": "code",
      "source": [
        "N = 2  # Número de espines\n",
        "J = 2.0  #Escala energética\n",
        "g = 1.0  #Parámetro energético\n",
        "\n",
        "# Construcción del Hamiltoniano\n",
        "H_sparse = sparse_hamiltonian(N, J, g)\n",
        "hamilt= H_sparse.toarray()\n",
        "# Mostrar el Hamiltoniano\n",
        "print(hamilt)"
      ],
      "metadata": {
        "colab": {
          "base_uri": "https://localhost:8080/"
        },
        "id": "TJbCxIzwtCqV",
        "outputId": "9e8e7cba-1d26-4665-a767-310e37bf93bc"
      },
      "execution_count": null,
      "outputs": [
        {
          "output_type": "stream",
          "name": "stdout",
          "text": [
            "[[-2. -1. -1.  0.]\n",
            " [-1.  2.  0. -1.]\n",
            " [-1.  0.  2. -1.]\n",
            " [ 0. -1. -1. -2.]]\n"
          ]
        }
      ]
    },
    {
      "cell_type": "markdown",
      "source": [
        "### Diagonalizar el sistema para obtener los autovalores y autovectores. Se realiza usando Numpy."
      ],
      "metadata": {
        "id": "b1xZj8_zkJGT"
      }
    },
    {
      "cell_type": "code",
      "source": [
        "eigenvalues, eigenvectors = np.linalg.eig(hamilt)\n",
        "D = np.diag(eigenvalues)\n",
        "print(\"La matriz diagonalizada es: \")\n",
        "print(D)\n",
        "print(\"Los autovalores son: \")\n",
        "print(eigenvalues)\n",
        "print(\"Los autovectores son: \")\n",
        "print(eigenvectors)"
      ],
      "metadata": {
        "colab": {
          "base_uri": "https://localhost:8080/"
        },
        "id": "WyemB-TDsfgO",
        "outputId": "7ed54730-9f1e-4525-ffb2-d944771deb7e"
      },
      "execution_count": null,
      "outputs": [
        {
          "output_type": "stream",
          "name": "stdout",
          "text": [
            "La matriz diagonalizada es: \n",
            "[[-2.82842712  0.          0.          0.        ]\n",
            " [ 0.         -2.          0.          0.        ]\n",
            " [ 0.          0.          2.82842712  0.        ]\n",
            " [ 0.          0.          0.          2.        ]]\n",
            "Los autovalores son: \n",
            "[-2.82842712 -2.          2.82842712  2.        ]\n",
            "Los autovectores son: \n",
            "[[ 6.53281482e-01  7.07106781e-01 -2.70598050e-01  6.02732551e-17]\n",
            " [ 2.70598050e-01 -4.33532422e-16  6.53281482e-01 -7.07106781e-01]\n",
            " [ 2.70598050e-01 -5.85556840e-16  6.53281482e-01  7.07106781e-01]\n",
            " [ 6.53281482e-01 -7.07106781e-01 -2.70598050e-01  2.26806709e-16]]\n"
          ]
        }
      ]
    },
    {
      "cell_type": "markdown",
      "source": [
        "**¿Qué se puede implementar para acelerar la operación de la diagonalización?**\n",
        "En primer lugar se debe de optimizar el código lo mejor posible, por ejemplo mediante métodos iterativos para trabajar matrices grandes y dispersas, para ese caso se puede destacar el método de Lanczos que se especializa especialmente en el cálculo de los valores y vectores propios de un sistema lineal de forma iterativa.\n",
        "Realizar paralelizaciones del código para optimizar el uso de la memoria y así acelerar el proceso de diagonalización.\n",
        "De igual forma se puede directamente hacer uso de bibliotecas de alto rendimiento tal como lo es Eigen para el caso de c++ pues es optimizada para cálculos de álgebra lineal y fue precisamente la utilizada en c++.\n",
        "El utilizar matrices dispersas para los cálculos simplifica mucho el tiempo de ejecución al no almacenar los datos no nulos.\n",
        "Hay varias formas de acelerar este proceso, en la presente aplicación se implementaron con éxito algunas de las mismas."
      ],
      "metadata": {
        "id": "GZ_sNGMJyVzR"
      }
    },
    {
      "cell_type": "markdown",
      "source": [
        "Comparación del cálculo del hamiltoniano tomando en cuenta las condiciones de frontera."
      ],
      "metadata": {
        "id": "PABobtZrdWN0"
      }
    },
    {
      "cell_type": "code",
      "source": [
        "import numpy as np\n",
        "from scipy.sparse import csc_matrix, eye, kron\n",
        "\n",
        "# Definición de las matrices de Pauli\n",
        "sx = np.array([[0, 1], [1, 0]], dtype=np.float64)\n",
        "sz = np.array([[1, 0], [0, -1]], dtype=np.float64)\n",
        "\n",
        "def sparse_hamiltonian(N, J, g):\n",
        "    # Inicializa la matriz dispersa del hamiltoniano de dimensiones 2^N con datos tipo float\n",
        "    H = csc_matrix((2**N, 2**N), dtype=np.float64)\n",
        "\n",
        "    # Construcción del Hamiltoniano\n",
        "    for i in range(N):\n",
        "        # Termino de interacción J * sigma_z_i * sigma_z_{i+1}\n",
        "        next_i = (i + 1) % N  # Para asegurar periodicidad\n",
        "        if next_i > i:\n",
        "            term_z = -J * kron(\n",
        "                kron(eye(2**i, dtype=np.float64), csc_matrix(sz)),\n",
        "                kron(csc_matrix(sz), eye(2**(N-next_i-1), dtype=np.float64))\n",
        "            )\n",
        "        else:  # Caso en el que next_i es 0, por condiciones periódicas\n",
        "            term_z = -J * kron(\n",
        "                kron(csc_matrix(sz), eye(2**(N-2), dtype=np.float64)),\n",
        "                csc_matrix(sz)\n",
        "            )\n",
        "        H += term_z\n",
        "\n",
        "        # Termino de campo transversal g* sigma_x_i\n",
        "        term_x = - g * kron(\n",
        "            kron(eye(2**i, dtype=np.float64), csc_matrix(sx)),\n",
        "            eye(2**(N-i-1), dtype=np.float64)\n",
        "        )\n",
        "        H += term_x\n",
        "\n",
        "    return H\n",
        "\n",
        "# Parámetros\n",
        "N = 2\n",
        "J = 2.0\n",
        "g = 1.0\n",
        "\n",
        "# Construcción del Hamiltoniano\n",
        "H_periodic = sparse_hamiltonian(N, J, g)\n",
        "Hamilt = H_periodic.toarray()\n",
        "print(\"Hamiltoniano con condiciones periódicas:\")\n",
        "print(H_periodic.toarray())\n",
        "\n",
        "eigenvalues, eigenvectors = np.linalg.eig(Hamilt)\n",
        "D = np.diag(eigenvalues)\n",
        "print(\"La matriz diagonalizada es: \")\n",
        "print(D)\n",
        "print(\"Los autovalores son: \")\n",
        "print(eigenvalues)\n",
        "print(\"Los autovectores son: \")\n",
        "print(eigenvectors)"
      ],
      "metadata": {
        "id": "PQw4_7rf2v4O",
        "colab": {
          "base_uri": "https://localhost:8080/"
        },
        "outputId": "1605b832-193f-4a4b-bedd-474c1b9f7497"
      },
      "execution_count": null,
      "outputs": [
        {
          "output_type": "stream",
          "name": "stdout",
          "text": [
            "Hamiltoniano con condiciones periódicas:\n",
            "[[-4. -1. -1.  0.]\n",
            " [-1.  4.  0. -1.]\n",
            " [-1.  0.  4. -1.]\n",
            " [ 0. -1. -1. -4.]]\n",
            "La matriz diagonalizada es: \n",
            "[[-4.47213595  0.          0.          0.        ]\n",
            " [ 0.         -4.          0.          0.        ]\n",
            " [ 0.          0.          4.47213595  0.        ]\n",
            " [ 0.          0.          0.          4.        ]]\n",
            "Los autovalores son: \n",
            "[-4.47213595 -4.          4.47213595  4.        ]\n",
            "Los autovectores son: \n",
            "[[ 6.88190960e-01  7.07106781e-01 -1.62459848e-01  3.33066907e-16]\n",
            " [ 1.62459848e-01 -7.79139135e-16  6.88190960e-01 -7.07106781e-01]\n",
            " [ 1.62459848e-01 -8.23814677e-16  6.88190960e-01  7.07106781e-01]\n",
            " [ 6.88190960e-01 -7.07106781e-01 -1.62459848e-01  3.33066907e-16]]\n"
          ]
        }
      ]
    },
    {
      "cell_type": "code",
      "source": [
        "import numpy as np\n",
        "\n",
        "# Definición de las matrices de Pauli sigma_x y sigma_z\n",
        "sx = np.array([[0, 1], [1, 0]])\n",
        "sz = np.array([[1, 0], [0, -1]])\n",
        "\n",
        "# Función para generar las matrices sigma_z^(i) y sigma_x^(i) para N espines sin np.kron\n",
        "def S(N, s):\n",
        "    S = []\n",
        "    for i in range(N):\n",
        "        # Construcción de sigma_z^(i)\n",
        "        if i == 0:\n",
        "            S_i = s\n",
        "        else:\n",
        "            S_i = np.eye(2)\n",
        "            for _ in range(i - 1):\n",
        "                S_i = np.kron(S_i, np.eye(2))\n",
        "            S_i = np.kron(S_i, s)\n",
        "        # Rellenar con identidades a la derecha\n",
        "        if N > i + 1:\n",
        "            for _ in range(i + 1, N):\n",
        "                S_i = np.kron(S_i, np.eye(2))\n",
        "        S.append(S_i)\n",
        "    return S\n",
        "\n",
        "def hamiltonian(J, g, N):\n",
        "    Sz = S(N, sz)\n",
        "    Sx = S(N, sx)\n",
        "    suma_z = sum(Sz[i] @ Sz[(i + 1) % N] for i in range(N))\n",
        "    suma_x = sum(Sx[i] for i in range(N))\n",
        "    return -J * suma_z - g * suma_x\n",
        "\n",
        "# Ejemplo de uso\n",
        "H = hamiltonian(2, 1, 2)\n",
        "\n",
        "eigenvalues, eigenvectors = np.linalg.eig(H)\n",
        "D = np.diag(eigenvalues)\n",
        "\n",
        "print(\"El hamiltoniano es: \")\n",
        "print(H)\n",
        "print(\"La matriz diagonalizada es: \")\n",
        "print(D)\n",
        "print(\"Los autovalores son: \")\n",
        "print(eigenvalues)"
      ],
      "metadata": {
        "id": "XDpwnGaIebnC",
        "outputId": "18731632-487a-4774-90f1-6dd8a36c2ffb",
        "colab": {
          "base_uri": "https://localhost:8080/"
        }
      },
      "execution_count": null,
      "outputs": [
        {
          "output_type": "stream",
          "name": "stdout",
          "text": [
            "El hamiltoniano es: \n",
            "[[-4. -1. -1. -0.]\n",
            " [-1.  4. -0. -1.]\n",
            " [-1. -0.  4. -1.]\n",
            " [-0. -1. -1. -4.]]\n",
            "La matriz diagonalizada es: \n",
            "[[-4.47213595  0.          0.          0.        ]\n",
            " [ 0.         -4.          0.          0.        ]\n",
            " [ 0.          0.          4.47213595  0.        ]\n",
            " [ 0.          0.          0.          4.        ]]\n",
            "Los autovalores son: \n",
            "[-4.47213595 -4.          4.47213595  4.        ]\n"
          ]
        }
      ]
    },
    {
      "cell_type": "code",
      "source": [
        "def suma_funcion(N,J,h):\n",
        "    suma = 0\n",
        "    for i in range(-N//2, N//2):\n",
        "        suma +=-1/2* 2*J*np.sqrt(1+(h/J)**2-2*(h/J)*np.cos(2*np.pi*(i+1/2)/N))\n",
        "    return suma\n",
        "\n",
        "\n",
        "N =2\n",
        "J=2\n",
        "h=1\n",
        "resultado = suma_funcion(N,J,h)\n",
        "print(\"Estado base:\", resultado)\n",
        "\n",
        "\n"
      ],
      "metadata": {
        "id": "Umkb5ALCdB80",
        "colab": {
          "base_uri": "https://localhost:8080/"
        },
        "outputId": "7b2dda72-1970-42f2-891d-b1402de33696"
      },
      "execution_count": null,
      "outputs": [
        {
          "output_type": "stream",
          "name": "stdout",
          "text": [
            "Estado base: -4.47213595499958\n"
          ]
        }
      ]
    },
    {
      "cell_type": "code",
      "source": [
        "def suma_funcion(N,J,h):\n",
        "    suma = 0\n",
        "    for i in range(-N//2, N//2):\n",
        "        suma +=-1/2* 2*J*np.sqrt(1+(h/J)**2-2*(h/J)*np.cos(2*np.pi*i/N))\n",
        "    return suma\n",
        "\n",
        "\n",
        "N =2\n",
        "J=2\n",
        "h=1\n",
        "resultado = suma_funcion(N,J,h) +1*2*J*np.sqrt(1+(h/J)**2-2*(h/J)*np.cos(2*np.pi*1/N))\n",
        "print(\"Estado excitado:\", resultado)"
      ],
      "metadata": {
        "colab": {
          "base_uri": "https://localhost:8080/"
        },
        "id": "oQPYEiAbkzI6",
        "outputId": "3f9e2c64-51c5-4156-c426-cc3798383198"
      },
      "execution_count": null,
      "outputs": [
        {
          "output_type": "stream",
          "name": "stdout",
          "text": [
            "Estado excitado: 2.0\n"
          ]
        }
      ]
    }
  ]
}